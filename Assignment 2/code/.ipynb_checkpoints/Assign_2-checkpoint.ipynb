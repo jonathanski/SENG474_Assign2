{
 "cells": [
  {
   "cell_type": "markdown",
   "metadata": {},
   "source": [
    "# Fashion-MNIST\n",
    "\n",
    "[![GitHub stars](https://img.shields.io/github/stars/zalandoresearch/fashion-mnist.svg?style=flat&label=Star)](https://github.com/zalandoresearch/fashion-mnist/)\n",
    "[![Gitter](https://badges.gitter.im/zalandoresearch/fashion-mnist.svg)](https://gitter.im/fashion-mnist/Lobby?utm_source=share-link&utm_medium=link&utm_campaign=share-link)\n",
    "[![Readme-CN](https://img.shields.io/badge/README-äž­æ-green.svg)](README.zh-CN.md)\n",
    "[![Readme-JA](https://img.shields.io/badge/README-æ¥æ¬èª-green.svg)](README.ja.md)\n",
    "[![License: MIT](https://img.shields.io/badge/License-MIT-yellow.svg)](https://opensource.org/licenses/MIT)\n",
    "[![Year-In-Review](https://img.shields.io/badge/%F0%9F%8E%82-Year%20in%20Review-orange.svg)](https://hanxiao.github.io/2018/09/28/Fashion-MNIST-Year-In-Review/)\n",
    "\n",
    "<details><summary>Table of Contents</summary><p>\n",
    "\n",
    "* [Why we made Fashion-MNIST](#why-we-made-fashion-mnist)\n",
    "* [Get the Data](#get-the-data)\n",
    "* [Usage](#usage)\n",
    "* [Benchmark](#benchmark)\n",
    "* [Visualization](#visualization)\n",
    "* [Contributing](#contributing)\n",
    "* [Contact](#contact)\n",
    "* [Citing Fashion-MNIST](#citing-fashion-mnist)\n",
    "* [License](#license)\n",
    "</p></details><p></p>\n",
    "\n",
    "\n",
    "`Fashion-MNIST` is a dataset of [Zalando](https://jobs.zalando.com/tech/)'s article imagesâconsisting of a training set of 60,000 examples and a test set of 10,000 examples. Each example is a 28x28 grayscale image, associated with a label from 10 classes. We intend `Fashion-MNIST` to serve as a direct **drop-in replacement** for the original [MNIST dataset](http://yann.lecun.com/exdb/mnist/) for benchmarking machine learning algorithms. It shares the same image size and structure of training and testing splits.\n",
    "\n",
    "Here's an example how the data looks (*each class takes three-rows*):\n",
    "\n",
    "![](doc/img/fashion-mnist-sprite.png)\n",
    "\n",
    "<img src=\"doc/img/embedding.gif\" width=\"100%\">\n",
    "\n",
    "## Why we made Fashion-MNIST\n",
    "\n",
    "The original [MNIST dataset](http://yann.lecun.com/exdb/mnist/) contains a lot of handwritten digits. Members of the AI/ML/Data Science community love this dataset and use it as a benchmark to validate their algorithms. In fact, MNIST is often the first dataset researchers try. *\"If it doesn't work on MNIST, it **won't work** at all\"*, they said. *\"Well, if it does work on MNIST, it may still fail on others.\"* \n",
    "\n",
    "### To Serious Machine Learning Researchers\n",
    "\n",
    "Seriously, we are talking about replacing MNIST. Here are some good reasons:\n",
    "\n",
    "- **MNIST is too easy.** Convolutional nets can achieve 99.7% on MNIST. Classic machine learning algorithms can also achieve 97% easily. Check out [our side-by-side benchmark for Fashion-MNIST vs. MNIST](http://fashion-mnist.s3-website.eu-central-1.amazonaws.com/), and read \"[Most pairs of MNIST digits can be distinguished pretty well by just one pixel](https://gist.github.com/dgrtwo/aaef94ecc6a60cd50322c0054cc04478).\"\n",
    "- **MNIST is overused.** In [this April 2017 Twitter thread](https://twitter.com/goodfellow_ian/status/852591106655043584), Google Brain research scientist and deep learning expert Ian Goodfellow calls for people to move away from MNIST.\n",
    "- **MNIST can not represent modern CV tasks**, as noted in [this April 2017 Twitter thread](https://twitter.com/fchollet/status/852594987527045120), deep learning expert/Keras author FranÃ§ois Chollet.\n",
    "\n",
    "## Get the Data\n",
    "\n",
    "[Many ML libraries](#loading-data-with-other-machine-learning-libraries) already include Fashion-MNIST data/API, give it a try!\n",
    "\n",
    "You can use direct links to download the dataset. The data is stored in the **same** format as the original [MNIST data](http://yann.lecun.com/exdb/mnist/).\n",
    "\n",
    "| Name  | Content | Examples | Size | Link | MD5 Checksum|\n",
    "| --- | --- |--- | --- |--- |--- |\n",
    "| `train-images-idx3-ubyte.gz`  | training set images  | 60,000|26 MBytes | [Download](http://fashion-mnist.s3-website.eu-central-1.amazonaws.com/train-images-idx3-ubyte.gz)|`8d4fb7e6c68d591d4c3dfef9ec88bf0d`|\n",
    "| `train-labels-idx1-ubyte.gz`  | training set labels  |60,000|29 KBytes | [Download](http://fashion-mnist.s3-website.eu-central-1.amazonaws.com/train-labels-idx1-ubyte.gz)|`25c81989df183df01b3e8a0aad5dffbe`|\n",
    "| `t10k-images-idx3-ubyte.gz`  | test set images  | 10,000|4.3 MBytes | [Download](http://fashion-mnist.s3-website.eu-central-1.amazonaws.com/t10k-images-idx3-ubyte.gz)|`bef4ecab320f06d8554ea6380940ec79`|\n",
    "| `t10k-labels-idx1-ubyte.gz`  | test set labels  | 10,000| 5.1 KBytes | [Download](http://fashion-mnist.s3-website.eu-central-1.amazonaws.com/t10k-labels-idx1-ubyte.gz)|`bb300cfdad3c16e7a12a480ee83cd310`|\n",
    "\n",
    "Alternatively, you can clone this GitHub repository; the dataset appears under `data/fashion`. This repo also contains some scripts for benchmark and visualization.\n",
    "   \n",
    "```bash\n",
    "git clone git@github.com:zalandoresearch/fashion-mnist.git\n",
    "```\n",
    "\n",
    "### Labels\n",
    "Each training and test example is assigned to one of the following labels:\n",
    "\n",
    "| Label | Description |\n",
    "| --- | --- |\n",
    "| 0 | T-shirt/top |\n",
    "| 1 | Trouser |\n",
    "| 2 | Pullover |\n",
    "| 3 | Dress |\n",
    "| 4 | Coat |\n",
    "| 5 | Sandal |\n",
    "| 6 | Shirt |\n",
    "| 7 | Sneaker |\n",
    "| 8 | Bag |\n",
    "| 9 | Ankle boot |\n",
    "\n",
    "## Usage\n",
    "\n",
    "### Loading data with Python (requires [NumPy](http://www.numpy.org/))\n",
    "\n",
    "Use `utils/mnist_reader` in this repo:\n",
    "```python\n",
    "import mnist_reader\n",
    "X_train, y_train = mnist_reader.load_mnist('data/fashion', kind='train')\n",
    "X_test, y_test = mnist_reader.load_mnist('data/fashion', kind='t10k')\n",
    "```\n",
    "\n",
    "### Loading data with Tensorflow\n",
    "Make sure you have [downloaded the data](#get-the-data) and placed it in `data/fashion`. Otherwise, *Tensorflow will download and use the original MNIST.*\n",
    "\n",
    "```python\n",
    "from tensorflow.examples.tutorials.mnist import input_data\n",
    "data = input_data.read_data_sets('data/fashion')\n",
    "\n",
    "data.train.next_batch(BATCH_SIZE)\n",
    "```\n",
    "\n",
    "Note, Tensorflow supports passing in a source url to the `read_data_sets`. You may use: \n",
    "```python\n",
    "data = input_data.read_data_sets('data/fashion', source_url='http://fashion-mnist.s3-website.eu-central-1.amazonaws.com/')\n",
    "```\n",
    "\n",
    "Also, an official Tensorflow tutorial of using `tf.keras`, a high-level API to train Fashion-MNIST [can be found here](https://www.tensorflow.org/tutorials/keras/basic_classification).\n",
    "\n",
    "### Loading data with other machine learning libraries \n",
    "To date, the following libraries have included `Fashion-MNIST` as a built-in dataset. Therefore, you don't need to download `Fashion-MNIST` by yourself. Just follow their API and you are ready to go.\n",
    "\n",
    "- [Apache MXNet Gluon](https://mxnet.incubator.apache.org/api/python/gluon/data.html)\n",
    "- [deeplearn.js](https://deeplearnjs.org/demos/model-builder/)\n",
    "- [Kaggle](https://www.kaggle.com/zalando-research/fashionmnist)\n",
    "- [Pytorch](https://pytorch.org/docs/master/torchvision/datasets.html#fashion-mnist)\n",
    "- [Keras](https://keras.io/datasets/#fashion-mnist-database-of-fashion-articles)\n",
    "- [Edward](http://edwardlib.org/api/observations/fashion_mnist)\n",
    "- [Tensorflow](https://www.tensorflow.org/api_docs/python/tf/keras/datasets/fashion_mnist)\n",
    "- [Torch](https://github.com/mingloo/fashion-mnist)\n",
    "- [JuliaML](https://github.com/JuliaML/MLDatasets.jl)\n",
    "- [Chainer](https://docs.chainer.org/en/stable/reference/generated/chainer.datasets.get_fashion_mnist.html)\n",
    "\n",
    "You are welcome to make pull requests to other open-source machine learning packages, improving their support to `Fashion-MNIST` dataset.\n",
    "\n",
    "### Loading data with other languages\n",
    "\n",
    "As one of the Machine Learning community's most popular datasets, MNIST has inspired people to implement loaders in many different languages. You can use these loaders with the `Fashion-MNIST` dataset as well. (Note: may require decompressing first.) To date, we haven't yet tested all of these loaders with Fashion-MNIST.\n",
    "\n",
    "- [C](https://stackoverflow.com/a/10409376)\n",
    "- [C++](https://github.com/wichtounet/mnist)\n",
    "- [Java](https://stackoverflow.com/a/8301949)\n",
    "- [Python](https://pypi.python.org/pypi/python-mnist) and [this](https://pypi.python.org/pypi/mnist) and [this]((https://www.brine.io/fashion-mnist/train))\n",
    "- [Scala](http://mxnet.io/tutorials/scala/mnist.html)\n",
    "- [Go](https://github.com/schuyler/neural-go/blob/master/mnist/mnist.go)\n",
    "- [C#](https://jamesmccaffrey.wordpress.com/2013/11/23/reading-the-mnist-data-set-with-c/)\n",
    "- [NodeJS](https://github.com/ApelSYN/mnist_dl) and [this](https://github.com/cazala/mnist)\n",
    "- [Swift](https://github.com/simonlee2/MNISTKit)\n",
    "- [R](https://gist.github.com/brendano/39760) and [this](https://github.com/maddin79/darch)\n",
    "- [Matlab](http://ufldl.stanford.edu/wiki/index.php/Using_the_MNIST_Dataset)\n",
    "- [Ruby](https://github.com/gbuesing/mnist-ruby-test/blob/master/train/mnist_loader.rb)\n",
    "\n",
    "\n",
    "## Benchmark\n",
    "We built an automatic benchmarking system based on `scikit-learn` that covers 129 classifiers (but no deep learning) with different parameters. [Find the results here](http://fashion-mnist.s3-website.eu-central-1.amazonaws.com/).\n",
    "\n",
    "<img src=\"doc/img/benchmark.gif\" width=\"100%\">\n",
    "\n",
    "You can reproduce the results by running `benchmark/runner.py`. We recommend building and deploying [this Dockerfile](Dockerfile). \n",
    "\n",
    "You are welcome to submit your benchmark; simply create a new issue and we'll list your results here. Before doing that, please make sure it does not already appear [in this list](http://fashion-mnist.s3-website.eu-central-1.amazonaws.com/). Visit our [contributor guidelines](https://github.com/zalandoresearch/fashion-mnist#contributing) for additional details.\n",
    "\n",
    "The table below collects the submitted benchmarks. Note that **we haven't yet tested these results**. You are welcome to validate the results using the code provided by the submitter. Test accuracy may differ due to the number of epoch, batch size, etc. To correct this table, please create a new issue.\n",
    "\n",
    "| Classifier | Preprocessing | Fashion test accuracy | MNIST test accuracy | Submitter| Code |\n",
    "| --- | --- | --- | --- | --- |--- |\n",
    "|2 Conv+pooling | None | 0.876 | - | [Kashif Rasul](https://twitter.com/krasul) | [:link:](https://gist.github.com/kashif/76792939dd6f473b7404474989cb62a8) |\n",
    "|2 Conv+pooling | None | 0.916| - |[Tensorflow's doc](https://www.tensorflow.org/tutorials/layers) | [:link:](/benchmark/convnet.py)|\n",
    "|2 Conv+pooling+ELU activation (PyTorch)| None| 0.903| - | [@AbhirajHinge](https://github.com/AbhirajHinge) | [:link:](https://github.com/AbhirajHinge/CNN-with-Fashion-MNIST-dataset)|\n",
    "|2 Conv | Normalization, random horizontal flip, random vertical flip, random translation, random rotation. | 0.919 |0.971 | [Kyriakos Efthymiadis](https://github.com/kefth)| [:link:](https://github.com/kefth/fashion-mnist)|\n",
    "|2 Conv <100K parameters | None | 0.925 | 0.992 |[@hardmaru](https://twitter.com/hardmaru) | [:link:](https://github.com/hardmaru/pytorch_notebooks/blob/master/pytorch_tiny_custom_mnist_adam.ipynb)|\n",
    "|2 Conv ~113K parameters | Normalization | 0.922| 0.993 |[Abel G.](https://github.com/abelusha) | [:link:](https://github.com/abelusha/MNIST-Fashion-CNN/blob/master/Fashon_MNIST_CNN_using_Keras_10_Runs.ipynb)|\n",
    "|2 Conv+3 FC ~1.8M parameters| Normalization | 0.932 | 0.994 | [@Xfan1025](https://github.com/Xfan1025) |[:link:](https://github.com/Xfan1025/Fashion-MNIST/blob/master/fashion-mnist.ipynb) |\n",
    "|2 Conv+3 FC ~500K parameters | Augmentation, batch normalization | 0.934 | 0.994 | [@cmasch](https://github.com/cmasch) |[:link:](https://github.com/cmasch/zalando-fashion-mnist) |\n",
    "|2 Conv+pooling+BN | None | 0.934 | - | [@khanguyen1207](https://github.com/khanguyen1207) | [:link:](https://github.com/khanguyen1207/My-Machine-Learning-Corner/blob/master/Zalando%20MNIST/fashion.ipynb)|\n",
    "|2 Conv+2 FC| Random Horizontal Flips|  0.939| -| [@ashmeet13](https://github.com/ashmeet13)|[:link:](https://github.com/ashmeet13/FashionMNIST-CNN)|\n",
    "|3 Conv+2 FC | None | 0.907 | - | [@Cenk BircanoÄlu](https://github.com/cenkbircanoglu) | [:link:](https://github.com/cenkbircanoglu/openface/tree/master/fashion_mnist)|\n",
    "|3 Conv+pooling+BN | None | 0.903 | 0.994 | [@meghanabhange](https://github.com/meghanabhange) | [:link:](https://github.com/meghanabhange/FashionMNIST-3-Layer-CNN) |\n",
    "|3 Conv+pooling+2 FC+dropout | None | 0.926 | - | [@Umberto Griffo](https://github.com/umbertogriffo) | [:link:](https://github.com/umbertogriffo/Fashion-mnist-cnn-keras)|\n",
    "|3 Conv+BN+pooling|None|0.921|0.992|[@GunjanChhablani](https://github.com/GunjanChhablani)|[:link:](https://github.com/GunjanChhablani/CNN-with-FashionMNIST)| \n",
    "|5 Conv+BN+pooling|None|0.931|-|[@Noumanmufc1](https://github.com/Noumanmufc1)|[:link:](https://gist.github.com/Noumanmufc1/60f00e434f0ce42b6f4826029737490a)| \n",
    "|CNN with optional shortcuts, dense-like connectivity| standardization+augmentation+random erasing | 0.947 |-| [@kennivich](https://github.com/Dezhic) | [:link:](https://github.com/Dezhic/fashion-classifier)|\n",
    "|GRU+SVM | None| 0.888 | 0.965 | [@AFAgarap](https://github.com/AFAgarap) | [:link:](https://gist.githubusercontent.com/AFAgarap/92c1c4a5dd771999b0201ec0e7edfee0/raw/828fbda0e466dacb1fad66549e0e3022e1c7263a/gru_svm_zalando.py)|\n",
    "|GRU+SVM with dropout | None| 0.897 | 0.988 | [@AFAgarap](https://github.com/AFAgarap) | [:link:](https://gist.githubusercontent.com/AFAgarap/92c1c4a5dd771999b0201ec0e7edfee0/raw/58dbe7cd8b0d83e4386cd6896766113b1a9af096/gru_svm_zalando_dropout.py)|\n",
    "|WRN40-4 8.9M params | standard preprocessing (mean/std subtraction/division) and augmentation (random crops/horizontal flips)| 0.967 | - |[@ajbrock](https://github.com/ajbrock) | [:link:](https://github.com/xternalz/WideResNet-pytorch)  [:link:](https://github.com/ajbrock/FreezeOut) |\n",
    "|DenseNet-BC 768K params| standard preprocessing (mean/std subtraction/division) and augmentation (random crops/horizontal flips) | 0.954 | - |[@ajbrock](https://github.com/ajbrock)  | [:link:](https://github.com/bamos/densenet.pytorch)  [:link:](https://github.com/ajbrock/FreezeOut) |\n",
    "|MobileNet | augmentation (horizontal flips)| 0.950|- | [@èåæ](https://github.com/bojone)| [:link:](http://kexue.fm/archives/4556/)|\n",
    "|ResNet18 | Normalization, random horizontal flip, random vertical flip, random translation, random rotation. | 0.949 | 0.979 |[Kyriakos Efthymiadis](https://github.com/kefth)| [:link:](https://github.com/kefth/fashion-mnist)|\n",
    "|GoogleNet with cross-entropy loss | None | 0.937 | - | [@Cenk BircanoÄlu](https://github.com/cenkbircanoglu) | [:link:](https://github.com/cenkbircanoglu/openface/tree/master/fashion_mnist)|\n",
    "|AlexNet with Triplet loss| None | 0.899 | - | [@Cenk BircanoÄlu](https://github.com/cenkbircanoglu) | [:link:](https://github.com/cenkbircanoglu/openface/tree/master/fashion_mnist)|\n",
    "|SqueezeNet with cyclical learning rate 200 epochs| None| 0.900| - | [@snakers4](https://github.com/snakers4) | [:link:](https://github.com/zalandoresearch/fashion-mnist/files/1263340/squeeze_net_mnist.zip)|\n",
    "|Dual path network with wide resnet 28-10|standard preprocessing (mean/std subtraction/division) and augmentation (random crops/horizontal flips) |0.957|-|[@Queequeg](https://github.com/Queequeg92)|[:link:](https://github.com/Queequeg92/DualPathNet)|\n",
    "|MLP 256-128-100| None | 0.8833| - | [@heitorrapela](https://github.com/heitorrapela)| [:link:](https://github.com/heitorrapela/fashion-mnist-mlp)| \n",
    "|VGG16 26M parameters | None | 0.935| - | [@QuantumLiu](https://github.com/QuantumLiu)|[:link:](https://github.com/QuantumLiu/fashion-mnist-demo-by-Keras) [:link:](https://zhuanlan.zhihu.com/p/28968219)|\n",
    "|WRN-28-10| standard preprocessing (mean/std subtraction/division) and augmentation (random crops/horizontal flips) | 0.959 | -| [@zhunzhong07](https://github.com/zhunzhong07)|[:link:](https://github.com/zhunzhong07/Random-Erasing)|\n",
    "|WRN-28-10 + Random Erasing| standard preprocessing (mean/std subtraction/division) and augmentation (random crops/horizontal flips) | 0.963 | -| [@zhunzhong07](https://github.com/zhunzhong07)|[:link:](https://github.com/zhunzhong07/Random-Erasing)|\n",
    "|Human Performance| Crowd-sourced evaluation of human (with no fashion expertise) performance. 1000 randomly sampled test images, 3 labels per image, majority labelling. | 0.835 | - | Leo  | - |\n",
    "|Capsule Network 8M parameters| Normalization and shift at most 2 pixel and horizontal flip | 0.936 | - | [@XifengGuo](https://github.com/XifengGuo)  | [:link:](https://github.com/XifengGuo/CapsNet-Fashion-MNIST)|\n",
    "|HOG+SVM| HOG | 0.926 | - | [@subalde](https://github.com/subalde) | [:link:](https://github.com/subalde/fashion-mnist)|\n",
    "|XgBoost| scaling the pixel values to mean=0.0 and var=1.0| 0.898| 0.958| [@anktplwl91](https://github.com/anktplwl91)| [:link:](https://github.com/anktplwl91/fashion_mnist.git)|\n",
    "|DENSER| - | 0.953| 0.997| [@fillassuncao](https://github.com/fillassuncao)| [:link:](https://github.com/fillassuncao/denser-models) [:link:](https://arxiv.org/pdf/1801.01563.pdf)|\n",
    "|Dyra-Net| Rescale to unit interval | 0.906| -| [@Dirk SchÃ€fer](https://github.com/disc5)| [:link:](https://github.com/disc5/dyra-net) [:link:](https://dl.acm.org/citation.cfm?id=3204176.3204200)|\n",
    "|Google AutoML|24 compute hours (higher quality)| 0.939|-| [@Sebastian Heinz](https://github.com/sebastianheinz) |[:link:](https://www.statworx.com/de/blog/a-performance-benchmark-of-google-automl-vision-using-fashion-mnist/)|\n",
    "\n",
    "\n",
    "### Other Explorations of Fashion-MNIST\n",
    "\n",
    "#### [Fashion-MNIST: Year in Review](https://hanxiao.github.io/2018/09/28/Fashion-MNIST-Year-In-Review/)\n",
    "#### [Fashion-MNIST on Google Scholar](https://scholar.google.com/scholar?hl=en&as_sdt=0%2C5&q=fashion-mnist&btnG=&oq=fas) \n",
    "\n",
    "#### Generative adversarial networks (GANs) \n",
    "- [Tensorflow implementation of various GANs and VAEs.](https://github.com/hwalsuklee/tensorflow-generative-model-collections) (**Recommend to read!** Note how various GANs generate different results on Fashion-MNIST, which can not be easily observed on the original MNIST.)\n",
    "- [Make a ghost wardrobe using DCGAN](https://twitter.com/spaceLenny/status/901488938023403520)\n",
    "- [fashion-mnistçganç©å",
    "·](http://kexue.fm/archives/4540/)\n",
    "- [CGAN output after 5000 steps](https://github.com/a7b23/Conditional-GAN-using-tensorflow-slim)\n",
    "- [GAN Playground - Explore Generative Adversarial Nets in your Browser](https://reiinakano.github.io/gan-playground/)\n",
    "\n",
    "#### Clustering\n",
    "- [Xifeng Guo's implementation](https://github.com/XifengGuo/DEC-keras) of [Unsupervised Deep Embedding for Clustering Analysis (DEC)](http://proceedings.mlr.press/v48/xieb16.pdf)\n",
    "- [Leland McInnes's](https://github.com/lmcinnes) [Uniform Manifold Approximation and Projection (UMAP)](https://github.com/lmcinnes/umap)\n",
    "\n",
    "#### Video Tutorial\n",
    "*Machine Learning Meets Fashion* by Yufeng G @ Google Cloud\n",
    "\n",
    "[![Machine Learning Meets Fashion](doc/img/ae143b2d.png)](https://youtu.be/RJudqel8DVA)\n",
    "\n",
    "*Introduction to Kaggle Kernels* by [Yufeng G](https://twitter.com/yufengg) @ Google Cloud\n",
    "\n",
    "[![Introduction to Kaggle Kernels](doc/img/853c717e.png)](https://youtu.be/FloMHMOU5Bs)\n",
    "\n",
    "*åšæå­Šæ·±åºŠå­Šä¹ * by Mu Li @ Amazon AI\n",
    "\n",
    "[![MXNet/Gluonäž­æé¢é](doc/img/e9514ab1.png)](https://youtu.be/kGktiYF5upk)\n",
    "\n",
    "Apache MXNetìŒë¡ ë°°ìë³Žë ë¥ë¬ë(Deep Learning) - ê¹ë¬Ží (AWS ìë£šì",
    "ìŠìí€í",
    "íž)\n",
    "\n",
    "[![Apache MXNetìŒë¡ ë°°ìë³Žë ë¥ë¬ë(Deep Learning)](doc/img/dd83f448.png)](https://youtu.be/H66GDuLsGl4)\n",
    "\n",
    "\n",
    "\n",
    "## Visualization\n",
    "\n",
    "### t-SNE on Fashion-MNIST (left) and original MNIST (right) \n",
    "<img src=\"doc/img/34d72c08.png\" width=\"50%\"><img src=\"doc/img/01e0c4be.png\" width=\"50%\">\n",
    "\n",
    "### PCA on Fashion-MNIST (left) and original MNIST (right) \n",
    "<img src=\"doc/img/f04ba662.png\" width=\"50%\"><img src=\"doc/img/4433f0e1.png\" width=\"50%\">\n",
    "\n",
    "### [UMAP](https://github.com/lmcinnes/umap) on Fashion-MNIST (left) and original MNIST (right) \n",
    "<img src=\"doc/img/umap_example_fashion_mnist1.png\" width=\"50%\"><img src=\"doc/img/umap_example_mnist1.png\" width=\"50%\">\n",
    "\n",
    "\n",
    "## Contributing\n",
    "\n",
    "Thanks for your interest in contributing! There are many ways to get involved; start with our [contributor guidelines](/CONTRIBUTING.md) and then check these [open issues](https://github.com/zalandoresearch/fashion-mnist/issues) for specific tasks.\n",
    "\n",
    "## Contact\n",
    "To discuss the dataset, please use [![Gitter](https://badges.gitter.im/zalandoresearch/fashion-mnist.svg)](https://gitter.im/fashion-mnist/Lobby?utm_source=share-link&utm_medium=link&utm_campaign=share-link).\n",
    "\n",
    "## Citing Fashion-MNIST\n",
    "If you use Fashion-MNIST in a scientific publication, we would appreciate references to the following paper:\n",
    "\n",
    "**Fashion-MNIST: a Novel Image Dataset for Benchmarking Machine Learning Algorithms. Han Xiao, Kashif Rasul, Roland Vollgraf. [arXiv:1708.07747](http://arxiv.org/abs/1708.07747)**\n",
    "\n",
    "Biblatex entry:\n",
    "```latex\n",
    "@online{xiao2017/online,\n",
    "  author       = {Han Xiao and Kashif Rasul and Roland Vollgraf},\n",
    "  title        = {Fashion-MNIST: a Novel Image Dataset for Benchmarking Machine Learning Algorithms},\n",
    "  date         = {2017-08-28},\n",
    "  year         = {2017},\n",
    "  eprintclass  = {cs.LG},\n",
    "  eprinttype   = {arXiv},\n",
    "  eprint       = {cs.LG/1708.07747},\n",
    "}\n",
    "```\n",
    "\n",
    "[Who is citing Fashion-MNIST?](https://scholar.google.com/scholar?scisbd=2&q=%22fashion-mnist%22&hl=en&as_sdt=0,5) \n",
    "\n",
    "## License\n",
    "\n",
    "The MIT License (MIT) Copyright Â© [2017] Zalando SE, https://tech.zalando.com\n",
    "\n",
    "Permission is hereby granted, free of charge, to any person obtaining a copy of this software and associated documentation files (the âSoftwareâ), to deal in the Software without restriction, including without limitation the rights to use, copy, modify, merge, publish, distribute, sublicense, and/or sell copies of the Software, and to permit persons to whom the Software is furnished to do so, subject to the following conditions:\n",
    "\n",
    "The above copyright notice and this permission notice shall be included in all copies or substantial portions of the Software.\n",
    "\n",
    "THE SOFTWARE IS PROVIDED âAS ISâ, WITHOUT WARRANTY OF ANY KIND, EXPRESS OR IMPLIED, INCLUDING BUT NOT LIMITED TO THE WARRANTIES OF MERCHANTABILITY, FITNESS FOR A PARTICULAR PURPOSE AND NONINFRINGEMENT. IN NO EVENT SHALL THE AUTHORS OR COPYRIGHT HOLDERS BE LIABLE FOR ANY CLAIM, DAMAGES OR OTHER LIABILITY, WHETHER IN AN ACTION OF CONTRACT, TORT OR OTHERWISE, ARISING FROM, OUT OF OR IN CONNECTION WITH THE SOFTWARE OR THE USE OR OTHER DEALINGS IN THE SOFTWARE.\n"
   ]
  },
  {
   "cell_type": "code",
   "execution_count": 9,
   "metadata": {
    "scrolled": true
   },
   "outputs": [],
   "source": [
    "from sklearn.linear_model import LogisticRegression\n",
    "from sklearn import svm\n",
    "\n",
    "import numpy as np\n",
    "import matplotlib.pyplot as plt\n",
    "import random\n",
    "\n",
    "\n",
    "import mnist_reader\n",
    "X_train_all, y_train_all = mnist_reader.load_mnist('data/fashion', kind='train')\n",
    "X_test_all, y_test_all = mnist_reader.load_mnist('data/fashion', kind='t10k')\n",
    "num_5_train, num_7_train=0,0 \n",
    "x_train, y_train, x_test, y_test = [],[],[],[]\n",
    "for x,y in zip(X_train_all, y_train_all):\n",
    "    if y==5 and num_5_train<3000:\n",
    "        x_train.append([x1/255 for x1 in x])\n",
    "        y_train.append(0)\n",
    "        num_5_train+=1\n",
    "    if y==7 and num_7_train<3000:\n",
    "        x_train.append([x1/255 for x1 in x])\n",
    "        y_train.append(1)\n",
    "        num_7_train+=1\n",
    "for x,y in zip(X_test_all, y_test_all):\n",
    "    if y==5:\n",
    "        x_test.append([x1/255 for x1 in x])\n",
    "        y_test.append(0)\n",
    "    if y==7:\n",
    "        x_test.append([x1/255 for x1 in x])\n",
    "        y_test.append(1)     \n",
    "    \n",
    "    \n",
    "    \n",
    "#print(x_train[0])\n"
   ]
  },
  {
   "cell_type": "code",
   "execution_count": 21,
   "metadata": {},
   "outputs": [
    {
     "name": "stderr",
     "output_type": "stream",
     "text": [
      "/opt/anaconda3/lib/python3.7/site-packages/sklearn/linear_model/_logistic.py:940: ConvergenceWarning: lbfgs failed to converge (status=1):\n",
      "STOP: TOTAL NO. of ITERATIONS REACHED LIMIT.\n",
      "\n",
      "Increase the number of iterations (max_iter) or scale the data as shown in:\n",
      "    https://scikit-learn.org/stable/modules/preprocessing.html\n",
      "Please also refer to the documentation for alternative solver options:\n",
      "    https://scikit-learn.org/stable/modules/linear_model.html#logistic-regression\n",
      "  extra_warning_msg=_LOGISTIC_SOLVER_CONVERGENCE_MSG)\n"
     ]
    },
    {
     "data": {
      "image/png": "[encoded data removed]",
      "text/plain": [
       "<Figure size 432x288 with 1 Axes>"
      ]
     },
     "metadata": {
      "needs_background": "light"
     },
     "output_type": "display_data"
    },
    {
     "name": "stdout",
     "output_type": "stream",
     "text": [
      "[0.02400000000000002, 0.02083333333333337, 0.019333333333333313, 0.01849999999999996, 0.01666666666666672, 0.015166666666666662, 0.013499999999999956, 0.012166666666666659, 0.011166666666666658, 0.010666666666666713]\n",
      "[0.04300000000000004, 0.046499999999999986, 0.04800000000000004, 0.05149999999999999, 0.05149999999999999, 0.05449999999999999, 0.06000000000000005, 0.0645, 0.06599999999999995, 0.0675]\n"
     ]
    }
   ],
   "source": [
    "test_score, training_score, x_axis=[], [], []\n",
    "\n",
    "for x in range(10):  \n",
    "    c=1.5*1.9**x\n",
    "    clf = LogisticRegression(random_state=0, penalty='l2', C=c,  max_iter=2000).fit(x_train, y_train)\n",
    "    training_score.append( 1-clf.score(x_train, y_train)) \n",
    "    test_score.append( 1-clf.score(x_test, y_test))\n",
    "    x_axis.append(c)\n",
    "    \n",
    "    \n",
    "plt.plot(x_axis, test_score, label='Test Data')\n",
    "    \n",
    "plt.plot(x_axis, training_score, label='Training Data')\n",
    "\n",
    "\n",
    "plt.xlabel('Regularization Parameter')\n",
    "plt.ylabel('Percent Error')\n",
    "plt.legend()\n",
    "plt.show()    \n",
    "print(training_score)\n",
    "print(test_score)\n",
    "    "
   ]
  },
  {
   "cell_type": "code",
   "execution_count": 59,
   "metadata": {},
   "outputs": [
    {
     "data": {
      "image/png": "[encoded data removed]",
      "text/plain": [
       "<Figure size 432x288 with 1 Axes>"
      ]
     },
     "metadata": {
      "needs_background": "light"
     },
     "output_type": "display_data"
    },
    {
     "name": "stdout",
     "output_type": "stream",
     "text": [
      "[0.029166666666666674, 0.027000000000000024, 0.023833333333333373, 0.021666666666666612, 0.020666666666666722, 0.01866666666666672, 0.016000000000000014, 0.015000000000000013, 0.013333333333333308, 0.011333333333333306]\n",
      "[0.03949999999999998, 0.04149999999999998, 0.04149999999999998, 0.04149999999999998, 0.046499999999999986, 0.049000000000000044, 0.05349999999999999, 0.05449999999999999, 0.057499999999999996, 0.06000000000000005]\n"
     ]
    }
   ],
   "source": [
    "test_score, training_score, x_axis=[], [], []\n",
    "\n",
    "for x in range(10):  \n",
    "    c=0.1*(1.8**x)\n",
    "    clf = svm.SVC(C=c, kernel='linear').fit(x_train, y_train)\n",
    "    training_score.append( 1-clf.score(x_train, y_train)) \n",
    "    test_score.append( 1-clf.score(x_test, y_test))\n",
    "    x_axis.append(c)\n",
    "    \n",
    "    \n",
    "plt.plot(x_axis, test_score, label='Test Data')\n",
    "    \n",
    "plt.plot(x_axis, training_score, label='Training Data')\n",
    "\n",
    "\n",
    "plt.xlabel('Regularization Parameter')\n",
    "plt.ylabel('Percent Error')\n",
    "plt.legend()\n",
    "plt.show()    \n",
    "print(training_score)\n",
    "print(test_score)\n",
    "\n"
   ]
  },
  {
   "cell_type": "markdown",
   "metadata": {},
   "source": [
    "# Bellow is my code for k-fold cross validation: "
   ]
  },
  {
   "cell_type": "code",
   "execution_count": 52,
   "metadata": {},
   "outputs": [],
   "source": [
    "# k-fold cross validation \n",
    "\n",
    "def k_fold_cross(model, k):\n",
    "    error=[]\n",
    "    for i in range(k):\n",
    "        low_index=int(i*len(x_train)/k)\n",
    "        high_index=int((i+1)*len(x_train)/k)\n",
    "        temp=model.fit(x_train[:low_index]+x_train[high_index:], y_train[:low_index]+y_train[high_index:])\n",
    "        error.append( 1-temp.score(x_train[low_index:high_index], y_train[low_index:high_index])) \n",
    "    return sum(error)/len(error) \n",
    "\n"
   ]
  },
  {
   "cell_type": "code",
   "execution_count": 53,
   "metadata": {},
   "outputs": [
    {
     "data": {
      "image/png": "[encoded data removed]",
      "text/plain": [
       "<Figure size 432x288 with 1 Axes>"
      ]
     },
     "metadata": {
      "needs_background": "light"
     },
     "output_type": "display_data"
    },
    {
     "name": "stdout",
     "output_type": "stream",
     "text": [
      "[0.047833333333333304, 0.04866666666666666, 0.05016666666666669, 0.05333333333333332, 0.05683333333333331, 0.05983333333333336, 0.06249999999999998, 0.06633333333333333, 0.06899999999999999, 0.07033333333333332]\n"
     ]
    }
   ],
   "source": [
    "score, x_axis=[], []\n",
    "\n",
    "for x in range(10):  \n",
    "    c=1.5*1.9**x\n",
    "    clf = LogisticRegression(random_state=0, penalty='l2', C=c,  max_iter=2000)\n",
    "    score.append(k_fold_cross(clf, 5))\n",
    "    x_axis.append(c)\n",
    "    \n",
    "    \n",
    "    \n",
    "plt.plot(x_axis, score, label='5-Fold Cross Validation')\n",
    "\n",
    "\n",
    "plt.xlabel('Regularization Parameter')\n",
    "plt.ylabel('Percent Error')\n",
    "plt.legend()\n",
    "plt.show()    \n",
    "print(score)\n"
   ]
  },
  {
   "cell_type": "code",
   "execution_count": 60,
   "metadata": {},
   "outputs": [
    {
     "data": {
      "image/png": "[encoded data removed]",
      "text/plain": [
       "<Figure size 432x288 with 1 Axes>"
      ]
     },
     "metadata": {
      "needs_background": "light"
     },
     "output_type": "display_data"
    },
    {
     "name": "stdout",
     "output_type": "stream",
     "text": [
      "[0.04633333333333332, 0.046, 0.04700000000000002, 0.04966666666666666, 0.051000000000000024, 0.05383333333333333, 0.05483333333333331, 0.05833333333333337, 0.060833333333333336, 0.06583333333333333]\n"
     ]
    }
   ],
   "source": [
    "score, x_axis=[], []\n",
    "\n",
    "for x in range(10):  \n",
    "    c=0.1*(1.8**x)\n",
    "    clf = svm.SVC(C=c, kernel='linear')\n",
    "    score.append(k_fold_cross(clf, 5))\n",
    "    x_axis.append(c)\n",
    "    \n",
    "    \n",
    "    \n",
    "plt.plot(x_axis, score, label='5-Fold Cross Validation')\n",
    "\n",
    "\n",
    "plt.xlabel('Regularization Parameter')\n",
    "plt.ylabel('Percent Error')\n",
    "plt.legend()\n",
    "plt.show()    \n",
    "print(score)"
   ]
  },
  {
   "cell_type": "code",
   "execution_count": null,
   "metadata": {},
   "outputs": [],
   "source": []
  },
  {
   "cell_type": "code",
   "execution_count": 62,
   "metadata": {
    "scrolled": true
   },
   "outputs": [
    {
     "data": {
      "image/png": "[encoded data removed]",
      "text/plain": [
       "<Figure size 432x288 with 1 Axes>"
      ]
     },
     "metadata": {
      "needs_background": "light"
     },
     "output_type": "display_data"
    },
    {
     "name": "stdout",
     "output_type": "stream",
     "text": [
      "0.04300000000000004 0.04349999999999998\n"
     ]
    }
   ],
   "source": [
    "clf = LogisticRegression(random_state=0, penalty='l2', C=1.5,  max_iter=2000).fit(x_train, y_train)\n",
    "reg_score = 1-clf.score(x_test, y_test)\n",
    "\n",
    "clf = svm.SVC(C=0.1).fit(x_train, y_train)\n",
    "svm_score= 1-clf.score(x_test, y_test)\n",
    "\n",
    "plt.bar(['Logistic Regression', 'Linear SVM'], [reg_score, svm_score])\n",
    "plt.ylabel('Error')\n",
    "plt.show()\n",
    "print(reg_score, svm_score)"
   ]
  },
  {
   "cell_type": "code",
   "execution_count": 77,
   "metadata": {},
   "outputs": [
    {
     "name": "stdout",
     "output_type": "stream",
     "text": [
      "0\n",
      "1\n",
      "2\n",
      "3\n",
      "4\n"
     ]
    },
    {
     "data": {
      "image/png": "[encoded data removed]",
      "text/plain": [
       "<Figure size 432x288 with 1 Axes>"
      ]
     },
     "metadata": {
      "needs_background": "light"
     },
     "output_type": "display_data"
    },
    {
     "name": "stdout",
     "output_type": "stream",
     "text": [
      "[0.487, 0.4141666666666667, 0.21200000000000002, 0.20183333333333336, 0.20183333333333336]\n"
     ]
    }
   ],
   "source": [
    "gamma=0.33333333\n",
    "score, x_axis=[], []\n",
    "\n",
    "for x in range(5):  \n",
    "    print(x)\n",
    "    c=0.1*(1.8**(2*x))\n",
    "    clf = svm.SVC(C=c, gamma=gamma)\n",
    "    score.append(k_fold_cross(clf, 5))\n",
    "    x_axis.append(c)\n",
    "    \n",
    "    \n",
    "    \n",
    "plt.plot(x_axis, score, label='5-Fold Cross Validation')\n",
    "\n",
    "\n",
    "plt.xlabel('Regularization Parameter')\n",
    "plt.ylabel('Percent Error')\n",
    "plt.legend()\n",
    "plt.show()    \n",
    "print(score)"
   ]
  },
  {
   "cell_type": "code",
   "execution_count": 79,
   "metadata": {},
   "outputs": [
    {
     "data": {
      "image/png": "[encoded data removed]",
      "text/plain": [
       "<Figure size 432x288 with 1 Axes>"
      ]
     },
     "metadata": {
      "needs_background": "light"
     },
     "output_type": "display_data"
    },
    {
     "name": "stdout",
     "output_type": "stream",
     "text": [
      "[0.03749999999999998, 0.025499999999999967, 0.01849999999999996, 0.02949999999999997, 0.1845]\n",
      "[0.0013717421124828531, 0.005415942440133714, 0.021383343303319473, 0.0844261872946214, 0.3333333333333333]\n"
     ]
    }
   ],
   "source": [
    "score, x_axis=[], []\n",
    "for x in np.logspace(-6,-1,5, base=3):\n",
    "    clf = svm.SVC(C=11.01996, gamma=x).fit(x_train, y_train)\n",
    "    score.append(1-clf.score(x_test, y_test))\n",
    "    x_axis.append(x)\n",
    "    \n",
    "plt.plot(x_axis, score, label='Test Error as Gamma Varies')\n",
    "\n",
    "\n",
    "plt.xlabel('Gamma')\n",
    "plt.ylabel('Percent Error')\n",
    "plt.legend()\n",
    "plt.show()    \n",
    "print(score)\n",
    "print(x_axis)\n",
    "    \n"
   ]
  }
 ],
 "metadata": {
  "kernelspec": {
   "display_name": "Python 3",
   "language": "python",
   "name": "python3"
  },
  "language_info": {
   "codemirror_mode": {
    "name": "ipython",
    "version": 3
   },
   "file_extension": ".py",
   "mimetype": "text/x-python",
   "name": "python",
   "nbconvert_exporter": "python",
   "pygments_lexer": "ipython3",
   "version": "3.7.4"
  }
 },
 "nbformat": 4,
 "nbformat_minor": 2
}
